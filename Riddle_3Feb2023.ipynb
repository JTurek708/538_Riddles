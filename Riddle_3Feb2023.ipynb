{
 "cells": [
  {
   "cell_type": "code",
   "execution_count": 30,
   "metadata": {},
   "outputs": [],
   "source": [
    "import itertools\n",
    "from itertools import permutations\n",
    "from itertools import combinations\n",
    "import math\n",
    "# !pip install numpy\n",
    "# !pip install --upgrade pip\n",
    "import numpy as np\n",
    "import copy"
   ]
  },
  {
   "cell_type": "code",
   "execution_count": 6,
   "metadata": {},
   "outputs": [
    {
     "name": "stdout",
     "output_type": "stream",
     "text": [
      "12\n",
      "{'touchdown': 6, 'extra point': 1, 'two pt conv': 2, 'safety': 2, 'field goal': 3}\n",
      "[6, 1, 2, 2, 3]\n"
     ]
    }
   ],
   "source": [
    "# Set scoring method variables\n",
    "touchdown = 6\n",
    "extra_point = 1\n",
    "two_pt_conv = 2\n",
    "safety = 2\n",
    "field_goal = 3\n",
    "target_points = 14\n",
    "\n",
    "\n",
    "print(touchdown + touchdown)\n",
    "scoring_methods = {\"touchdown\":6, \"extra point\":1, \"two pt conv\": 2, \"safety\": 2, \"field goal\": 3}\n",
    "print(scoring_methods)\n",
    "scoring_method_list = [touchdown, extra_point, two_pt_conv, safety, field_goal]\n",
    "print(scoring_method_list)\n",
    "\n",
    "\n",
    "\n"
   ]
  },
  {
   "cell_type": "code",
   "execution_count": 55,
   "metadata": {},
   "outputs": [
    {
     "name": "stdout",
     "output_type": "stream",
     "text": [
      "11\n",
      "57\n"
     ]
    }
   ],
   "source": [
    "# Set scoring combinations\n",
    "scoring_opportunities = [3, 2, 7, 8, 6]\n",
    "# target_points - already defined as 14 points\n",
    "\n",
    "def combos(target, scores):\n",
    "    ways = [0] * (target+1)\n",
    "    ways[0] = 1\n",
    "    for score in scores:\n",
    "        for j in range(score, target+1):\n",
    "            ways[j] += ways[j-score]\n",
    "    return ways[target]\n",
    "\n",
    "print(combos(14, [2,3,6,7,8]))\n",
    "print(combos(28, scoring_opportunities))\n",
    "\n",
    "\n"
   ]
  },
  {
   "cell_type": "code",
   "execution_count": 51,
   "metadata": {},
   "outputs": [
    {
     "data": {
      "text/plain": [
       "[[0, inf, inf, inf, inf, inf, inf, inf, inf, inf, inf, inf, inf, inf, inf],\n",
       " [0, 0, 0, 0, 0, 0, 0, 0, 0, 0, 0, 0, 0, 0, 0],\n",
       " [0, 0, 0, 0, 0, 0, 0, 0, 0, 0, 0, 0, 0, 0, 0],\n",
       " [0, 0, 0, 0, 0, 0, 0, 0, 0, 0, 0, 0, 0, 0, 0],\n",
       " [0, 0, 0, 0, 0, 0, 0, 0, 0, 0, 0, 0, 0, 0, 0],\n",
       " [0, 0, 0, 0, 0, 0, 0, 0, 0, 0, 0, 0, 0, 0, 0]]"
      ]
     },
     "execution_count": 51,
     "metadata": {},
     "output_type": "execute_result"
    }
   ],
   "source": [
    "def count_ways()\n",
    "\n"
   ]
  },
  {
   "cell_type": "code",
   "execution_count": null,
   "metadata": {},
   "outputs": [],
   "source": []
  }
 ],
 "metadata": {
  "kernelspec": {
   "display_name": "base",
   "language": "python",
   "name": "python3"
  },
  "language_info": {
   "codemirror_mode": {
    "name": "ipython",
    "version": 3
   },
   "file_extension": ".py",
   "mimetype": "text/x-python",
   "name": "python",
   "nbconvert_exporter": "python",
   "pygments_lexer": "ipython3",
   "version": "3.8.8"
  },
  "orig_nbformat": 4,
  "vscode": {
   "interpreter": {
    "hash": "b17945552914671f25087dfb86cd5a45b10a5793e1aed6a445e2aa0f30a334c3"
   }
  }
 },
 "nbformat": 4,
 "nbformat_minor": 2
}
